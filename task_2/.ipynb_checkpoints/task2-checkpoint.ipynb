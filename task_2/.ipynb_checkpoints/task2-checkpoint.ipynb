{
 "cells": [
  {
   "cell_type": "code",
   "execution_count": 192,
   "id": "90ad3bd2-ad03-4d1e-a0c5-355ded82c9f8",
   "metadata": {},
   "outputs": [],
   "source": [
    "from Bio.PDB.PDBParser import PDBParser\n",
    "from Bio.PDB import Selection\n",
    "import numpy as np\n",
    "import os.path\n",
    "from rdkit import Chem\n",
    "import warnings\n",
    "warnings.filterwarnings('ignore')\n",
    "\n",
    "######## HELPER FUNCTIONS ###############\n",
    "def extract_ligand_coordinate_sdf(ligand_input_file):\n",
    "    \"\"\"Extract ligand's atomic coordinates from input sdf file\"\"\"\n",
    "    ligand = Chem.SDMolSupplier(ligand_input_file, removeHs = False)[0]\n",
    "    conf = ligand.GetConformer()\n",
    "    ligand_coord = conf.GetPositions()\n",
    "    return np.array(ligand_coord)\n",
    "    \n",
    "def extract_ligand_coordinate_pdb(ligand_input_file):\n",
    "    \"\"\"Extract ligand's atomic coordinates from input pdb file\"\"\"\n",
    "    parser = PDBParser()\n",
    "    ligand_struct = parser.get_structure(\"lig\", ligand_input_file)[0]\n",
    "    ligand = Selection.unfold_entities(ligand_struct, 'R')[0]\n",
    "    lig_coord = []\n",
    "    for atom in ligand:\n",
    "        lig_coord.append(atom.get_coord())\n",
    "    return np.array(lig_coord)\n",
    "\n",
    "def min_res_lig_distance(res, lig):\n",
    "    \"\"\"Returns the min distance between a residue and the ligand.\n",
    "    Keyword arguments:\n",
    "    res -- a numpy array of atomic coordinates of the residue\n",
    "    lig -- a numpy array of atomic coordinates of the ligand\n",
    "    Both numpy arrays should have shape of (n, 3), where n is the number of the atoms\n",
    "    \"\"\"\n",
    "    lig_atm_num = len(lig)\n",
    "    res_atm_num = len(res)\n",
    "    # broadcasting the array of atomic coordinates of residue and ligand\n",
    "    # so that the expanded arrays would have the same length\n",
    "    res_expanded = np.repeat(res,repeats=lig_atm_num, axis=0)\n",
    "    lig_expanded = np.tile(lig, (res_atm_num, 1))\n",
    "    # computes the pairwise atomic distances between the residue and ligand\n",
    "    # this would be much faster than using two for loops due to vectorization\n",
    "    atom_dist = np.linalg.norm(res_expanded - lig_expanded, axis=1)\n",
    "    # return the minimum atomic pairwise ditance between the residue and ligand\n",
    "    # note that the numpy.min function here is faster than the min function due to vectorization\n",
    "    return np.min(atom_dist)\n",
    "\n",
    "def get_file_extension(file_path):\n",
    "    \"\"\"Extracts the file extension (in lowercase)\"\"\"\n",
    "    _, extension = os.path.splitext(file_path)\n",
    "    return extension.lower()"
   ]
  },
  {
   "cell_type": "code",
   "execution_count": 208,
   "id": "4d29b710-c72a-4ad8-9ea6-6a4badf44e01",
   "metadata": {},
   "outputs": [],
   "source": [
    "######## MAIN FUNCTION ###############\n",
    "def check_residue_ligand_distances(input_protein, input_ligand, residue_list, distance_list):\n",
    "    \"\"\"Returns a list of booleans that indicate whether the ligand pose is within\n",
    "    the ith distance in angstroms of the ith residue of the protein structure file.\n",
    "    Keyword arguments:\n",
    "    input_protein -- an input Protein structure file name\n",
    "    input_ligand -- an input Ligand pose file name (only accept .pdb and .sdf files)\n",
    "    residue_list -- a list of key residues' sequence index ids\n",
    "    distance_list -- a list of cutoff distances (in angstroms)\n",
    "    \"\"\"\n",
    "    # Check to make sure that the input files exist\n",
    "    assert os.path.exists(input_protein), \"the input protein structure file doesn't exist\"\n",
    "    assert os.path.exists(input_ligand), \"the input ligand pose file doesn't exist\"\n",
    "    # Check to see if the sizes of the input residue list and the distance list are the same\n",
    "    array_length = len(residue_list)\n",
    "    assert array_length == len(distance_list), \"the number of input residues is different from the number of input distances\"\n",
    "\n",
    "    # Extract atomic coordinates of ligand\n",
    "    ligand_coord = []\n",
    "    ligand_file_extension = get_file_extension(input_ligand)\n",
    "    if ligand_file_extension == \".pdb\":\n",
    "        ligand_coord = extract_ligand_coordinate_pdb(input_ligand)\n",
    "    elif ligand_file_extension == \".sdf\":\n",
    "        ligand_coord = extract_ligand_coordinate_sdf(input_ligand)\n",
    "    else :\n",
    "        raise Exception(\" The input ligand file should be either a PDB or a SDF file\")\n",
    "    \n",
    "    # parsing input protein pdb files\n",
    "    parser = PDBParser()\n",
    "    protein = parser.get_structure(\"protein\", input_protein)[0]\n",
    "\n",
    "    # Check if each residue is within the corresponding distance from the ligand\n",
    "    protein_ress_num = len(Selection.unfold_entities(protein, 'R'))\n",
    "    assert max(residue_list) <= protein_ress_num, \"the input protein does not have residue %d\" % max(residue_list)\n",
    "    result_arr = []\n",
    "    for id in range(array_length):\n",
    "        resid = residue_list[id] - 1\n",
    "        res = Selection.unfold_entities(protein, 'R')[resid]\n",
    "        # Extract the atomic coordinates of each residue\n",
    "        res_coord = []\n",
    "        for atom in res:\n",
    "            res_coord.append(atom.get_coord())\n",
    "        # calculate min atomic pair-wise distance between the residue and the ligand \n",
    "        min_res_lig_dist = min_res_lig_distance(np.array(res_coord), ligand_coord)\n",
    "        if min_res_lig_dist <= distance_list[id]:\n",
    "            result_arr.append('True')\n",
    "        else:\n",
    "            result_arr.append('False')\n",
    "    return result_arr\n",
    "    "
   ]
  },
  {
   "cell_type": "code",
   "execution_count": 209,
   "id": "841fa178-640b-47a8-9081-585b06bd0a4c",
   "metadata": {},
   "outputs": [
    {
     "data": {
      "text/plain": [
       "['False', 'True']"
      ]
     },
     "execution_count": 209,
     "metadata": {},
     "output_type": "execute_result"
    }
   ],
   "source": [
    "# Test case 1: an input receptor and an input ligand (pdb file)\n",
    "# the min distance should be 4.7A (between atom O of res 36 and atom H18 of ligand)\n",
    "check_residue_ligand_distances('test_cases/y4r_PP.pdb', 'test_cases/y4r_pam.pdb', [36, 36], [4, 5])   "
   ]
  },
  {
   "cell_type": "code",
   "execution_count": 210,
   "id": "aa47ad14-698b-4431-a98a-3510a605e624",
   "metadata": {},
   "outputs": [
    {
     "data": {
      "text/plain": [
       "['False', 'True', 'False', 'True']"
      ]
     },
     "execution_count": 210,
     "metadata": {},
     "output_type": "execute_result"
    }
   ],
   "source": [
    "# Test case 2: an input receptor and an input ligand (pdf file)\n",
    "# the min distance of residue 36 should be 4.7A (between atom O of res 36P and atom H18 of ligand)\n",
    "# the min distance of residue 101 should be 1.9A (between atom HG1 of res 65A and atom O2 of ligand)\n",
    "check_residue_ligand_distances('test_cases/y4r_PP.pdb', 'test_cases/y4r_pam.sdf', [36, 36, 101, 101], [4, 5, 1, 2])"
   ]
  },
  {
   "cell_type": "code",
   "execution_count": 211,
   "id": "2362bbff-dc8b-4c07-8565-2d38e14d199d",
   "metadata": {},
   "outputs": [
    {
     "ename": "AssertionError",
     "evalue": "the input protein does not have residue 1000",
     "output_type": "error",
     "traceback": [
      "\u001b[0;31m---------------------------------------------------------------------------\u001b[0m",
      "\u001b[0;31mAssertionError\u001b[0m                            Traceback (most recent call last)",
      "Cell \u001b[0;32mIn[211], line 2\u001b[0m\n\u001b[1;32m      1\u001b[0m \u001b[38;5;66;03m# Test case 3: an input receptor and an input ligand (pdf file), input residue id is outof bound\u001b[39;00m\n\u001b[0;32m----> 2\u001b[0m \u001b[43mcheck_residue_ligand_distances\u001b[49m\u001b[43m(\u001b[49m\u001b[38;5;124;43m'\u001b[39;49m\u001b[38;5;124;43mtest_cases/y4r_PP.pdb\u001b[39;49m\u001b[38;5;124;43m'\u001b[39;49m\u001b[43m,\u001b[49m\u001b[43m \u001b[49m\u001b[38;5;124;43m'\u001b[39;49m\u001b[38;5;124;43mtest_cases/y4r_pam.sdf\u001b[39;49m\u001b[38;5;124;43m'\u001b[39;49m\u001b[43m,\u001b[49m\u001b[43m \u001b[49m\u001b[43m[\u001b[49m\u001b[38;5;241;43m36\u001b[39;49m\u001b[43m,\u001b[49m\u001b[43m \u001b[49m\u001b[38;5;241;43m1000\u001b[39;49m\u001b[43m]\u001b[49m\u001b[43m,\u001b[49m\u001b[43m \u001b[49m\u001b[43m[\u001b[49m\u001b[38;5;241;43m4\u001b[39;49m\u001b[43m,\u001b[49m\u001b[43m \u001b[49m\u001b[38;5;241;43m5\u001b[39;49m\u001b[43m]\u001b[49m\u001b[43m)\u001b[49m\n",
      "Cell \u001b[0;32mIn[208], line 27\u001b[0m, in \u001b[0;36mcheck_residue_ligand_distances\u001b[0;34m(input_protein, input_ligand, residue_list, distance_list)\u001b[0m\n\u001b[1;32m     25\u001b[0m \u001b[38;5;66;03m# Check if each residue is within the corresponding distance from the ligand\u001b[39;00m\n\u001b[1;32m     26\u001b[0m protein_ress_num \u001b[38;5;241m=\u001b[39m \u001b[38;5;28mlen\u001b[39m(Selection\u001b[38;5;241m.\u001b[39munfold_entities(protein, \u001b[38;5;124m'\u001b[39m\u001b[38;5;124mR\u001b[39m\u001b[38;5;124m'\u001b[39m))\n\u001b[0;32m---> 27\u001b[0m \u001b[38;5;28;01massert\u001b[39;00m \u001b[38;5;28mmax\u001b[39m(residue_list) \u001b[38;5;241m<\u001b[39m\u001b[38;5;241m=\u001b[39m protein_ress_num, \u001b[38;5;124m\"\u001b[39m\u001b[38;5;124mthe input protein does not have residue \u001b[39m\u001b[38;5;132;01m%d\u001b[39;00m\u001b[38;5;124m\"\u001b[39m \u001b[38;5;241m%\u001b[39m \u001b[38;5;28mmax\u001b[39m(residue_list)\n\u001b[1;32m     28\u001b[0m result_arr \u001b[38;5;241m=\u001b[39m []\n\u001b[1;32m     29\u001b[0m \u001b[38;5;28;01mfor\u001b[39;00m \u001b[38;5;28mid\u001b[39m \u001b[38;5;129;01min\u001b[39;00m \u001b[38;5;28mrange\u001b[39m(array_length):\n",
      "\u001b[0;31mAssertionError\u001b[0m: the input protein does not have residue 1000"
     ]
    }
   ],
   "source": [
    "# Test case 3: an input receptor and an input ligand (pdf file), input residue id is outof bound\n",
    "check_residue_ligand_distances('test_cases/y4r_PP.pdb', 'test_cases/y4r_pam.sdf', [36, 1000], [4, 5])"
   ]
  },
  {
   "cell_type": "code",
   "execution_count": 212,
   "id": "5e0afde8-9c36-4773-88a1-af84e8b70536",
   "metadata": {},
   "outputs": [
    {
     "ename": "AssertionError",
     "evalue": "the number of input residues is different from the number of input distances",
     "output_type": "error",
     "traceback": [
      "\u001b[0;31m---------------------------------------------------------------------------\u001b[0m",
      "\u001b[0;31mAssertionError\u001b[0m                            Traceback (most recent call last)",
      "Cell \u001b[0;32mIn[212], line 2\u001b[0m\n\u001b[1;32m      1\u001b[0m \u001b[38;5;66;03m# Test case 4: the size of input residue array is different from the size of the distance array\u001b[39;00m\n\u001b[0;32m----> 2\u001b[0m \u001b[43mcheck_residue_ligand_distances\u001b[49m\u001b[43m(\u001b[49m\u001b[38;5;124;43m'\u001b[39;49m\u001b[38;5;124;43mtest_cases/y4r_PP.pdb\u001b[39;49m\u001b[38;5;124;43m'\u001b[39;49m\u001b[43m,\u001b[49m\u001b[43m \u001b[49m\u001b[38;5;124;43m'\u001b[39;49m\u001b[38;5;124;43mtest_cases/y4r_pam.sdf\u001b[39;49m\u001b[38;5;124;43m'\u001b[39;49m\u001b[43m,\u001b[49m\u001b[43m \u001b[49m\u001b[43m[\u001b[49m\u001b[38;5;241;43m36\u001b[39;49m\u001b[43m,\u001b[49m\u001b[43m \u001b[49m\u001b[38;5;241;43m12\u001b[39;49m\u001b[43m,\u001b[49m\u001b[43m \u001b[49m\u001b[38;5;241;43m11\u001b[39;49m\u001b[43m]\u001b[49m\u001b[43m,\u001b[49m\u001b[43m \u001b[49m\u001b[43m[\u001b[49m\u001b[38;5;241;43m4\u001b[39;49m\u001b[43m,\u001b[49m\u001b[43m \u001b[49m\u001b[38;5;241;43m5\u001b[39;49m\u001b[43m]\u001b[49m\u001b[43m)\u001b[49m\n",
      "Cell \u001b[0;32mIn[208], line 9\u001b[0m, in \u001b[0;36mcheck_residue_ligand_distances\u001b[0;34m(input_protein, input_ligand, residue_list, distance_list)\u001b[0m\n\u001b[1;32m      7\u001b[0m \u001b[38;5;66;03m# Check to see if the sizes of the input residue list and the distance list are the same\u001b[39;00m\n\u001b[1;32m      8\u001b[0m array_length \u001b[38;5;241m=\u001b[39m \u001b[38;5;28mlen\u001b[39m(residue_list)\n\u001b[0;32m----> 9\u001b[0m \u001b[38;5;28;01massert\u001b[39;00m array_length \u001b[38;5;241m==\u001b[39m \u001b[38;5;28mlen\u001b[39m(distance_list), \u001b[38;5;124m\"\u001b[39m\u001b[38;5;124mthe number of input residues is different from the number of input distances\u001b[39m\u001b[38;5;124m\"\u001b[39m\n\u001b[1;32m     11\u001b[0m \u001b[38;5;66;03m# Extract atomic coordinates of ligand\u001b[39;00m\n\u001b[1;32m     12\u001b[0m ligand_coord \u001b[38;5;241m=\u001b[39m []\n",
      "\u001b[0;31mAssertionError\u001b[0m: the number of input residues is different from the number of input distances"
     ]
    }
   ],
   "source": [
    "# Test case 4: the size of input residue array is different from the size of the distance array\n",
    "check_residue_ligand_distances('test_cases/y4r_PP.pdb', 'test_cases/y4r_pam.sdf', [36, 12, 11], [4, 5])"
   ]
  }
 ],
 "metadata": {
  "kernelspec": {
   "display_name": "Python 3 (ipykernel)",
   "language": "python",
   "name": "python3"
  },
  "language_info": {
   "codemirror_mode": {
    "name": "ipython",
    "version": 3
   },
   "file_extension": ".py",
   "mimetype": "text/x-python",
   "name": "python",
   "nbconvert_exporter": "python",
   "pygments_lexer": "ipython3",
   "version": "3.12.2"
  }
 },
 "nbformat": 4,
 "nbformat_minor": 5
}
